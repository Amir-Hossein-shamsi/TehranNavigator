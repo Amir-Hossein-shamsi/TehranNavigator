{
 "cells": [
  {
   "cell_type": "markdown",
   "id": "32fbf8dd",
   "metadata": {},
   "source": [
    "### sdfvsfdv"
   ]
  },
  {
   "cell_type": "code",
   "execution_count": null,
   "id": "1aec9973",
   "metadata": {},
   "outputs": [],
   "source": [
    "import osmnx as ox\n",
    "import networkx as nx \n",
    "import ipyleaflet\n",
    "import sklearn\n",
    "from ipyleaflet import Map,Marker,Polyline\n",
    "from geopy.geocoders import Nominatim\n",
    "import ipywidgets as widgets\n",
    "from IPython.display import display, clear_output"
   ]
  },
  {
   "cell_type": "code",
   "execution_count": null,
   "id": "57c22d1f",
   "metadata": {},
   "outputs": [],
   "source": [
    "# Widgets for user input\n",
    "origin_widget = widgets.Text(\n",
    "    value='Tehran University, Tehrann',\n",
    "    description='Origin:',\n",
    "    layout=widgets.Layout(width='400px')\n",
    ")\n",
    "destination_widget = widgets.Text(\n",
    "    value='Azadi Tower, Tehran',\n",
    "    description='Destination:',\n",
    "    layout=widgets.Layout(width='400px')\n",
    ")\n",
    "button = widgets.Button(description=\"Show Route\", button_style='success')\n",
    "output = widgets.Output()\n",
    "\n",
    "def on_button_clicked(b):\n",
    "    with output:\n",
    "        clear_output()\n",
    "        geolocator = Nominatim(user_agent=\"geoGraphicsApp\")\n",
    "        origin_address = origin_widget.value\n",
    "        destination_address = destination_widget.value\n",
    "\n",
    "        origin_location = geolocator.geocode(origin_address + \", Iran\",country_codes='ir')\n",
    "        destination_location = geolocator.geocode(destination_address + \", Iran\",country_codes='ir')\n",
    "\n",
    "        if not origin_location or not destination_location:\n",
    "            print(\"Could not geocode one or both addresses.\")\n",
    "            return\n",
    "\n",
    "        original_coords = [origin_location.latitude, origin_location.longitude]\n",
    "        destination_coords = [destination_location.latitude, destination_location.longitude]\n",
    "\n",
    "        # Download the street network for Tehran\n",
    "        graph = ox.graph_from_place(\"Tehran, Iran\", network_type='drive')\n",
    "\n",
    "        # Find the nearest nodes to the start and end coordinates\n",
    "        original_node = ox.distance.nearest_nodes(graph, original_coords[1], original_coords[0])\n",
    "        destination_node = ox.distance.nearest_nodes(graph, destination_coords[1], destination_coords[0])\n",
    "\n",
    "        # Compute the shortest path (by length)\n",
    "        shortest_path = nx.shortest_path(G=graph, source=original_node, target=destination_node, weight='length')\n",
    "\n",
    "        # Build a list of all points along the path, using edge geometry if available\n",
    "        path_points = []\n",
    "        for u, v in zip(shortest_path[:-1], shortest_path[1:]):\n",
    "            data = graph.get_edge_data(u, v)\n",
    "            edge = data[0] if 0 in data else list(data.values())[0]\n",
    "            if 'geometry' in edge:\n",
    "                xs, ys = edge['geometry'].xy\n",
    "                segment = list(zip(ys, xs))  # (lat, lon)\n",
    "                if path_points and path_points[-1] == segment[0]:\n",
    "                    segment = segment[1:]\n",
    "                path_points.extend(segment)\n",
    "            else:\n",
    "                lat1, lon1 = graph.nodes[u]['y'], graph.nodes[u]['x']\n",
    "                lat2, lon2 = graph.nodes[v]['y'], graph.nodes[v]['x']\n",
    "                if not path_points or path_points[-1] != (lat1, lon1):\n",
    "                    path_points.append((lat1, lon1))\n",
    "                path_points.append((lat2, lon2))\n",
    "\n",
    "        midpoint = [(original_coords[0] + destination_coords[0]) / 2, (original_coords[1] + destination_coords[1]) / 2]\n",
    "        m = Map(center=midpoint, zoom=12)\n",
    "        m.add_layer(Marker(location=original_coords, draggable=False, title=\"Start\"))\n",
    "        m.add_layer(Marker(location=destination_coords, draggable=False, title=\"End\"))\n",
    "        m.add_layer(Polyline(locations=path_points, color=\"blue\", fill=False))\n",
    "        display(m)\n",
    "\n",
    "button.on_click(on_button_clicked)\n",
    "\n",
    "# Display the widgets\n",
    "display(widgets.VBox([origin_widget, destination_widget, button, output]))"
   ]
  }
 ],
 "metadata": {
  "kernelspec": {
   "display_name": ".venv",
   "language": "python",
   "name": "python3"
  },
  "language_info": {
   "codemirror_mode": {
    "name": "ipython",
    "version": 3
   },
   "file_extension": ".py",
   "mimetype": "text/x-python",
   "name": "python",
   "nbconvert_exporter": "python",
   "pygments_lexer": "ipython3",
   "version": "3.12.3"
  }
 },
 "nbformat": 4,
 "nbformat_minor": 5
}
